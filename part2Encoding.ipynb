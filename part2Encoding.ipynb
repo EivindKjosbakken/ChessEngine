{
 "cells": [
  {
   "cell_type": "code",
   "execution_count": 87,
   "metadata": {},
   "outputs": [],
   "source": [
    "import numpy as np\n",
    "import gym\n",
    "import gym_chess\n",
    "import chess\n",
    "import os\n",
    "\n",
    "\n",
    "env = gym.make('ChessAlphaZero-v0')\n"
   ]
  },
  {
   "cell_type": "code",
   "execution_count": 75,
   "metadata": {},
   "outputs": [],
   "source": [
    "#NOTE to remember:\n",
    "# board = chess.Board(fen)  #set board to a specific position from fen encoding\n",
    "# might have to reset env if encoding or such does not work"
   ]
  },
  {
   "cell_type": "code",
   "execution_count": 188,
   "metadata": {},
   "outputs": [
    {
     "name": "stdout",
     "output_type": "stream",
     "text": [
      "Box(0, 2147483647, (8, 8, 119), int32)\n",
      "Discrete(4672)\n"
     ]
    }
   ],
   "source": [
    "#encoding from gym-chess\n",
    "env = gym.make('ChessAlphaZero-v0')\n",
    "env.reset()\n",
    "print(env.observation_space)\n",
    "print(env.action_space)"
   ]
  },
  {
   "cell_type": "code",
   "execution_count": 190,
   "metadata": {},
   "outputs": [
    {
     "data": {
      "text/plain": [
       "Move.from_uci('e2e4')"
      ]
     },
     "execution_count": 190,
     "metadata": {},
     "output_type": "execute_result"
    }
   ],
   "source": [
    "#gym-chess environment:\n",
    "\n",
    "\n",
    "#encode:\n",
    "move = chess.Move.from_uci('e2e4')\n",
    "env.encode(move)\n",
    "\n",
    "#decode:\n",
    "env.decode(877)\n",
    "\n",
    "\n",
    "# env.legal_actions #moves with encoded notation\n",
    "# env.legal_moves #moves with decoded notation"
   ]
  },
  {
   "cell_type": "code",
   "execution_count": 143,
   "metadata": {},
   "outputs": [],
   "source": [
    "#encoding func from alpha zero:\n",
    "\n",
    "\n",
    "def encodeBoardFromFen(fen: str) -> np.array:\n",
    "\tboard = chess.Board(fen)\n",
    "\treturn encodeBoard(board)\n",
    "\t\n",
    "def encodeBoard(board: chess.Board) -> np.array:\n",
    "\t\"\"\"Converts a board to numpy array representation.\"\"\"\n",
    "\n",
    "\tarray = np.zeros((8, 8, 14), dtype=int)\n",
    "\n",
    "\tfor square, piece in board.piece_map().items():\n",
    "\t\trank, file = chess.square_rank(square), chess.square_file(square)\n",
    "\t\tpiece_type, color = piece.piece_type, piece.color\n",
    "\t\n",
    "\t\t# The first six planes encode the pieces of the active player, \n",
    "\t\t# the following six those of the active player's opponent. Since\n",
    "\t\t# this class always stores boards oriented towards the white player,\n",
    "\t\t# White is considered to be the active player here.\n",
    "\t\toffset = 0 if color == chess.WHITE else 6\n",
    "\t\t\n",
    "\t\t# Chess enumerates piece types beginning with one, which we have\n",
    "\t\t# to account for\n",
    "\t\tidx = piece_type - 1\n",
    "\t\n",
    "\t\tarray[rank, file, idx + offset] = 1\n",
    "\n",
    "\t# Repetition counters\n",
    "\tarray[:, :, 12] = board.is_repetition(2)\n",
    "\tarray[:, :, 13] = board.is_repetition(3)\n",
    "\n",
    "\treturn array\n",
    "\n",
    "def encodeMove(move: str):\n",
    "\tmove = chess.Move.from_uci(move) #could reset but increases time with over 50%\n",
    "\treturn env.encode(move)\n",
    "\n",
    "def decodeMove(move: int):\n",
    "\treturn env.decode(move)\n"
   ]
  },
  {
   "cell_type": "code",
   "execution_count": 164,
   "metadata": {},
   "outputs": [],
   "source": [
    "#function to encode all moves and positions from rawData folder\n",
    "def encodeAllMovesAndPositions():\n",
    "    env = gym.make('ChessAlphaZero-v0')\n",
    "    env.reset()\n",
    "    #find all files in folder:\n",
    "\n",
    "    files = os.listdir('data/rawData')\n",
    "    for idx, f in enumerate(files):\n",
    "        movesAndPositions = np.load(f'data/rawData/{f}', allow_pickle=True)\n",
    "        moves = movesAndPositions[:,0]\n",
    "        positions = movesAndPositions[:,1]\n",
    "        encodedMoves = []\n",
    "        encodedPositions = []\n",
    "        for i in range(len(moves)):\n",
    "            try:\n",
    "                encodedMoves.append(encodeMove(moves[i])) \n",
    "                encodedPositions.append(encodeBoardFromFen(positions[i]))\n",
    "                pass\n",
    "            except:\n",
    "                print(f'error in file: {f}')\n",
    "                print(moves[i])\n",
    "                print(positions[i])\n",
    "                print(i)\n",
    "                return\n",
    "            \n",
    "        np.save(f'data/preparedData/moves{idx}', np.array(encodedMoves))\n",
    "        np.save(f'data/preparedData/positions{idx}', np.array(encodedPositions))\n",
    "    \n",
    "encodeAllMovesAndPositions()\n",
    "\n",
    "#NOTE: shape of files:\n",
    "#moves: (number of moves in gamew)\n",
    "#positions: (number of moves in game, 8, 8, 14) (number of moves in game is including both black and white moves)"
   ]
  },
  {
   "cell_type": "code",
   "execution_count": 170,
   "metadata": {},
   "outputs": [
    {
     "data": {
      "text/plain": [
       "(114,)"
      ]
     },
     "execution_count": 170,
     "metadata": {},
     "output_type": "execute_result"
    }
   ],
   "source": []
  }
 ],
 "metadata": {
  "kernelspec": {
   "display_name": "venv",
   "language": "python",
   "name": "python3"
  },
  "language_info": {
   "codemirror_mode": {
    "name": "ipython",
    "version": 3
   },
   "file_extension": ".py",
   "mimetype": "text/x-python",
   "name": "python",
   "nbconvert_exporter": "python",
   "pygments_lexer": "ipython3",
   "version": "3.9.6"
  },
  "orig_nbformat": 4
 },
 "nbformat": 4,
 "nbformat_minor": 2
}
